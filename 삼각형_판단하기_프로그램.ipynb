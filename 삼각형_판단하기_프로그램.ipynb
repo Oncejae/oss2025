{
  "nbformat": 4,
  "nbformat_minor": 0,
  "metadata": {
    "colab": {
      "provenance": [],
      "authorship_tag": "ABX9TyN7CgD59cNbQAf65kN9iUHT",
      "include_colab_link": true
    },
    "kernelspec": {
      "name": "python3",
      "display_name": "Python 3"
    },
    "language_info": {
      "name": "python"
    }
  },
  "cells": [
    {
      "cell_type": "markdown",
      "metadata": {
        "id": "view-in-github",
        "colab_type": "text"
      },
      "source": [
        "<a href=\"https://colab.research.google.com/github/welcomematna/oss2025/blob/main/%EC%82%BC%EA%B0%81%ED%98%95_%ED%8C%90%EB%8B%A8%ED%95%98%EA%B8%B0_%ED%94%84%EB%A1%9C%EA%B7%B8%EB%9E%A8.ipynb\" target=\"_parent\"><img src=\"https://colab.research.google.com/assets/colab-badge.svg\" alt=\"Open In Colab\"/></a>"
      ]
    },
    {
      "cell_type": "code",
      "execution_count": null,
      "metadata": {
        "id": "c-PwjS0NwvhW"
      },
      "outputs": [],
      "source": []
    },
    {
      "cell_type": "markdown",
      "source": [
        "# 삼각형 판단하기\n",
        "\n",
        "본 수업에서는 **삼각형의 세변의 길이**를 받아서 어떤 삼각형인지를 알려주는 프로그램을 개발합니다. 제안하는 프로그램은 사용자로부터 3개의 입력을 받습니다.\n",
        "\n",
        "\n",
        "$a = b = c$ 정삼각형 🔺"
      ],
      "metadata": {
        "id": "b1NghHiWxjU-"
      }
    },
    {
      "cell_type": "code",
      "source": [
        "a = 102 # @param {type: \"number\"}\n",
        "b = 25 # @param {type: \"number\"}\n",
        "c = 10 # @param {type: \"number\"}\n",
        "date = '2025-03-17'  # @param {type: \"date\"}\n",
        "pick_me = \"monday\"  # @param ['monday', 'tuesday', 'wednesday', 'thursday']\n",
        "select_or_input = \"apples\" # @param [\"apples\", \"bananas\", \"oranges\"] {allow-input: true}\n",
        "# @markdown ---"
      ],
      "metadata": {
        "id": "i2GN2cxx0BPw"
      },
      "execution_count": 1,
      "outputs": []
    },
    {
      "cell_type": "markdown",
      "source": [
        "## 정삼각형\n",
        "\n",
        "$a=b=c$ 정삼각형 🔺"
      ],
      "metadata": {
        "id": "7M_ZV57PyqRJ"
      }
    },
    {
      "cell_type": "code",
      "source": [
        "if a ==b ==c:\n",
        "  print(\"정삼각형\")\n",
        "else:\n",
        "   print(\"정삼각형 아님\")"
      ],
      "metadata": {
        "colab": {
          "base_uri": "https://localhost:8080/"
        },
        "id": "WvjwQQmUyRhR",
        "outputId": "e44c06a6-278c-437e-8538-2cbd5d6cac63"
      },
      "execution_count": 3,
      "outputs": [
        {
          "output_type": "stream",
          "name": "stdout",
          "text": [
            "정삼각형 아님\n"
          ]
        }
      ]
    },
    {
      "cell_type": "code",
      "source": [
        "a=100\n",
        "b=200"
      ],
      "metadata": {
        "id": "LGEempba0iz1"
      },
      "execution_count": 5,
      "outputs": []
    }
  ]
}